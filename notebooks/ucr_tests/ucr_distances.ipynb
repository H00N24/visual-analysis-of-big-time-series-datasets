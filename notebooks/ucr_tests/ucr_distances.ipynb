{
 "cells": [
  {
   "cell_type": "code",
   "execution_count": null,
   "metadata": {},
   "outputs": [],
   "source": [
    "%load_ext autoreload\n",
    "%autoreload 2"
   ]
  },
  {
   "cell_type": "markdown",
   "metadata": {},
   "source": [
    "# UCR Datasets - Distances\n",
    "\n",
    "In this notebook we are computing various distances for all UCR datasets so they could be used further in our analysis."
   ]
  },
  {
   "cell_type": "code",
   "execution_count": null,
   "metadata": {},
   "outputs": [],
   "source": [
    "from pathlib import Path\n",
    "\n",
    "import numpy as np\n",
    "import pandas as pd\n",
    "from fastdtw import fastdtw\n",
    "from sklearn.metrics import pairwise_distances\n",
    "from tqdm.notebook import tqdm\n",
    "from tslearn.metrics import dtw"
   ]
  },
  {
   "cell_type": "code",
   "execution_count": null,
   "metadata": {},
   "outputs": [],
   "source": [
    "DATA_PATH = Path(\"../UCRArchive_2018/\")"
   ]
  },
  {
   "cell_type": "code",
   "execution_count": null,
   "metadata": {},
   "outputs": [],
   "source": [
    "files_frame = pd.read_csv(DATA_PATH / \"ucr_metadata.csv\")\n",
    "files_frame"
   ]
  },
  {
   "cell_type": "code",
   "execution_count": null,
   "metadata": {},
   "outputs": [],
   "source": [
    "def fastdtw_dist(x, y):\n",
    "    return fastdtw(x[~np.isnan(x)], y[~np.isnan(y)])[0]\n",
    "\n",
    "\n",
    "def itakura_dtw(x, y):\n",
    "    window = np.rint(0.1 * max(x.shape[0], y.shape[0])).astype(int)\n",
    "\n",
    "    return dtw(\n",
    "        x[~np.isnan(x)],\n",
    "        y[~np.isnan(y)],\n",
    "        global_constraint=\"itakura\",\n",
    "        itakura_max_slope=window,\n",
    "    )\n",
    "\n",
    "\n",
    "def sakoe_chiba_dtw(x, y):\n",
    "    window = np.rint(0.1 * max(x.shape[0], y.shape[0])).astype(int)\n",
    "\n",
    "    return dtw(\n",
    "        x[~np.isnan(x)],\n",
    "        y[~np.isnan(y)],\n",
    "        global_constraint=\"sakoe_chiba\",\n",
    "        sakoe_chiba_radius=window,\n",
    "    )"
   ]
  },
  {
   "cell_type": "code",
   "execution_count": null,
   "metadata": {},
   "outputs": [],
   "source": [
    "def compute_and_save(X, save_path, metric=\"euclidean\", n_jobs=4):\n",
    "    matrix = pairwise_distances(X, metric=metric, n_jobs=n_jobs)\n",
    "    np.savetxt(save_path, matrix, delimiter=\",\", fmt=\"%g\")"
   ]
  },
  {
   "cell_type": "code",
   "execution_count": null,
   "metadata": {},
   "outputs": [],
   "source": [
    "n_jobs = 5\n",
    "\n",
    "for dataset in tqdm(files_frame[:50].itertuples()):\n",
    "    frame = pd.read_csv(dataset.path, header=None, index_col=None)\n",
    "\n",
    "    def_path = dataset.path.replace(\".csv\", \"\")\n",
    "\n",
    "    X = frame.values[:, 1:]\n",
    "    X_der = np.diff(X, axis=1)\n",
    "    y = frame.values[:, 0]\n",
    "\n",
    "    try:\n",
    "        ed = pairwise_distances(X, n_jobs=n_jobs)\n",
    "\n",
    "        compute_and_save(X, save_path=def_path + \"_dtw.gz\", metric=dtw, n_jobs=n_jobs)\n",
    "\n",
    "        compute_and_save(\n",
    "            X, save_path=def_path + \"_fdtw.gz\", metric=fastdtw_dist, n_jobs=n_jobs\n",
    "        )\n",
    "\n",
    "        compute_and_save(\n",
    "            X_der,\n",
    "            save_path=def_path + \"_der_fdtw.gz\",\n",
    "            metric=fastdtw_dist,\n",
    "            n_jobs=n_jobs,\n",
    "        )\n",
    "\n",
    "        compute_and_save(\n",
    "            X, save_path=def_path + \"_itakura.gz\", metric=itakura_dtw, n_jobs=n_jobs\n",
    "        )\n",
    "\n",
    "        compute_and_save(\n",
    "            X,\n",
    "            save_path=def_path + \"_sakoe_chiba.gz\",\n",
    "            metric=sakoe_chiba_dtw,\n",
    "            n_jobs=n_jobs,\n",
    "        )\n",
    "\n",
    "    except Exception as e:\n",
    "        print(dataset.path, e, flush=True)"
   ]
  },
  {
   "cell_type": "code",
   "execution_count": null,
   "metadata": {
    "lines_to_next_cell": 0
   },
   "outputs": [],
   "source": [
    "n_jobs = None\n",
    "\n",
    "for dataset in tqdm(files_frame[:50].itertuples()):\n",
    "    frame = pd.read_csv(dataset.path, header=None, index_col=None)\n",
    "\n",
    "    def_path = dataset.path.replace(\".csv\", \"\")\n",
    "\n",
    "    X = frame.values[:, 1:]\n",
    "    X_der = np.diff(X, axis=1)\n",
    "    y = frame.values[:, 0]\n",
    "\n",
    "    try:\n",
    "        ed = pairwise_distances(X, n_jobs=n_jobs)\n",
    "\n",
    "        compute_and_save(\n",
    "            X_der, save_path=def_path + \"_der_dtw.gz\", metric=dtw, n_jobs=n_jobs\n",
    "        )\n",
    "\n",
    "        compute_and_save(\n",
    "            X_der,\n",
    "            save_path=def_path + \"_der_itakura.gz\",\n",
    "            metric=itakura_dtw,\n",
    "            n_jobs=n_jobs,\n",
    "        )\n",
    "\n",
    "        compute_and_save(\n",
    "            X_der,\n",
    "            save_path=def_path + \"_der_sakoe_chiba.gz\",\n",
    "            metric=sakoe_chiba_dtw,\n",
    "            n_jobs=n_jobs,\n",
    "        )\n",
    "\n",
    "    except Exception as e:\n",
    "        print(dataset.path, e, flush=True)"
   ]
  },
  {
   "cell_type": "code",
   "execution_count": null,
   "metadata": {
    "lines_to_next_cell": 2
   },
   "outputs": [],
   "source": []
  }
 ],
 "metadata": {
  "jupytext": {
   "formats": "ipynb,py"
  },
  "kernelspec": {
   "display_name": "Master's Thesis",
   "language": "python",
   "name": "masters-thesis"
  },
  "language_info": {
   "codemirror_mode": {
    "name": "ipython",
    "version": 3
   },
   "file_extension": ".py",
   "mimetype": "text/x-python",
   "name": "python",
   "nbconvert_exporter": "python",
   "pygments_lexer": "ipython3",
   "version": "3.8.9"
  }
 },
 "nbformat": 4,
 "nbformat_minor": 4
}
