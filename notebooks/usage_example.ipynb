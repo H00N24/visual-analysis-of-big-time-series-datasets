{
 "cells": [
  {
   "cell_type": "code",
   "execution_count": 1,
   "id": "acb01e6b-3358-4ee2-b596-b832fe223ccd",
   "metadata": {},
   "outputs": [],
   "source": [
    "%load_ext autoreload\n",
    "%autoreload 2"
   ]
  },
  {
   "cell_type": "markdown",
   "id": "6563f081-8e5f-4956-ac0c-d7af0e698e74",
   "metadata": {},
   "source": [
    "### Example usage of Feature DTW and Multi-Component Feature DTW transformations\n",
    "\n",
    "This notebook shows basic usage of Feature DTW and Multi-Component Feature DTW transformations on dummy datasets.\n",
    "\n",
    "#### Imports"
   ]
  },
  {
   "cell_type": "code",
   "execution_count": 2,
   "id": "c4f9e8e3-99ff-48d3-a6a9-56451efba851",
   "metadata": {},
   "outputs": [],
   "source": [
    "import numpy as np\n",
    "import pandas as pd\n",
    "from dtaidistance import dtw\n",
    "\n",
    "from feature_dtw import FeatureDTWTransformer, MultiComponentFDTWTransformer"
   ]
  },
  {
   "cell_type": "markdown",
   "id": "c3765f8e-1c43-4f40-9c4f-740449db0e2e",
   "metadata": {},
   "source": [
    "#### Time Series Dataset"
   ]
  },
  {
   "cell_type": "code",
   "execution_count": 3,
   "id": "7080d6f1-94af-499a-8070-1b7e6f9e5742",
   "metadata": {},
   "outputs": [],
   "source": [
    "ts_dataset = np.array(\n",
    "    [\n",
    "        [17, 21, 30, 2, 10],\n",
    "        [16, 15, 4, 3, 9],\n",
    "        [19, 43, 14, 41, 43],\n",
    "        [46, 3, 38, 29, 19],\n",
    "        [18, 10, 16, 36, 6],\n",
    "        [29, 19, 2, 26, 9],\n",
    "        [8, 41, 10, 13, 44],\n",
    "        [7, 38, 34, 20, 20],\n",
    "    ]\n",
    ")"
   ]
  },
  {
   "cell_type": "markdown",
   "id": "9bca5aaa-b4ca-4366-9a15-ed71da12b449",
   "metadata": {},
   "source": [
    "#### Feature DTW Transformation"
   ]
  },
  {
   "cell_type": "code",
   "execution_count": 4,
   "id": "9e162f2a-c839-4b03-8f94-3d235a4973b2",
   "metadata": {},
   "outputs": [],
   "source": [
    "fdtw = FeatureDTWTransformer(\n",
    "    n_components=2,\n",
    "    metric=dtw.distance,\n",
    "    metric_param=dict(window=2, use_pruning=True),\n",
    "    random_state=42,\n",
    ")"
   ]
  },
  {
   "cell_type": "code",
   "execution_count": 5,
   "id": "d7b6229f-c377-41bb-bdf0-350783eb30f5",
   "metadata": {},
   "outputs": [
    {
     "data": {
      "text/plain": [
       "array([[16.03121954, 22.93468988],\n",
       "       [ 0.        , 21.88606863],\n",
       "       [56.0357029 , 42.96510212],\n",
       "       [50.53711507, 28.26658805],\n",
       "       [30.91924967, 19.87460691],\n",
       "       [21.88606863,  0.        ],\n",
       "       [45.16635916, 46.08687449],\n",
       "       [39.89987469, 35.65108694]])"
      ]
     },
     "execution_count": 5,
     "metadata": {},
     "output_type": "execute_result"
    }
   ],
   "source": [
    "fdtw.fit_transform(ts_dataset)"
   ]
  },
  {
   "cell_type": "markdown",
   "id": "de0cc4c9-f80d-48dc-9ea6-d4567ed60103",
   "metadata": {},
   "source": [
    "#### Multi-Component Time Series Dataset"
   ]
  },
  {
   "cell_type": "code",
   "execution_count": 6,
   "id": "97bfb427-3ffe-4697-bb16-8ec5f5d22430",
   "metadata": {},
   "outputs": [],
   "source": [
    "comp_1 = np.array(\n",
    "    [\n",
    "        [40, 21, 9, 41, 45],\n",
    "        [27, 35, 10, 23, 35],\n",
    "        [5, 28, 0, 8, 43],\n",
    "        [47, 14, 38, 14, 12],\n",
    "        [38, 25, 20, 36, 20],\n",
    "        [27, 41, 30, 47, 26],\n",
    "        [20, 25, 30, 8, 13],\n",
    "        [33, 24, 24, 16, 40],\n",
    "    ]\n",
    ")\n",
    "\n",
    "comp_2 = np.array(\n",
    "    [\n",
    "        [46, 40, 7, 27, 3, 44, 38],\n",
    "        [3, 17, 1, 44, 23, 17, 11],\n",
    "        [40, 15, 47, 26, 14, 26, 9],\n",
    "        [4, 46, 25, 3, 4, 40, 13],\n",
    "        [43, 0, 28, 24, 36, 46, 27],\n",
    "        [18, 41, 5, 19, 6, 33, 42],\n",
    "        [9, 4, 2, 37, 39, 18, 15],\n",
    "        [41, 26, 35, 26, 35, 38, 16],\n",
    "    ]\n",
    ")\n",
    "\n",
    "comp_3 = np.array(\n",
    "    [\n",
    "        [18, 27, 12],\n",
    "        [11, 30, 25],\n",
    "        [9, 36, 14],\n",
    "        [33, 1, 9],\n",
    "        [7, 24, 47],\n",
    "        [48, 2, 18],\n",
    "        [24, 31, 48],\n",
    "        [15, 46, 12],\n",
    "    ]\n",
    ")"
   ]
  },
  {
   "cell_type": "markdown",
   "id": "cedb48dd-37a3-4bd4-8fca-b8c34ffbd678",
   "metadata": {},
   "source": [
    "#### Multi-Component Feature DTW Transformation"
   ]
  },
  {
   "cell_type": "code",
   "execution_count": 7,
   "id": "80522003-6c2e-458b-9b90-4f2ba896b1c9",
   "metadata": {},
   "outputs": [],
   "source": [
    "mcfdtw = MultiComponentFDTWTransformer(\n",
    "    n_transformers=[\n",
    "        FeatureDTWTransformer(n_components=3, metric=\"euclidean\", random_state=42),\n",
    "        FeatureDTWTransformer(\n",
    "            n_components=2,\n",
    "            metric=dtw.distance,\n",
    "            metric_param=dict(window=2, use_pruning=True),\n",
    "            random_state=42,\n",
    "        ),\n",
    "        FeatureDTWTransformer(n_components=3, metric=\"chebyshev\", random_state=42),\n",
    "    ]\n",
    ")"
   ]
  },
  {
   "cell_type": "code",
   "execution_count": 8,
   "id": "6754d841-228c-43f6-aab5-574e688ed3c0",
   "metadata": {},
   "outputs": [
    {
     "data": {
      "text/plain": [
       "array([[28.10693865, 37.50999867,  0.        , 66.12866247,         inf,\n",
       "        13.        , 30.        ,  0.        ],\n",
       "       [ 0.        , 33.06055051, 28.10693865,  0.        , 52.87721627,\n",
       "         0.        , 37.        , 13.        ],\n",
       "       [30.3644529 , 57.99137867, 49.47726751, 41.        , 46.87216658,\n",
       "        11.        , 39.        ,  9.        ],\n",
       "       [47.27578661, 49.77951386, 52.50714237, 53.09425581, 39.49683532,\n",
       "        29.        , 15.        , 26.        ],\n",
       "       [26.73948391, 25.17935662, 28.12472222, 56.57738064, 36.18010503,\n",
       "        22.        , 41.        , 35.        ],\n",
       "       [33.06055051,  0.        , 37.50999867, 52.87721627,  0.        ,\n",
       "        37.        ,  0.        , 30.        ],\n",
       "       [35.4682957 , 44.66542287, 54.49770637, 15.03329638, 54.19409562,\n",
       "        23.        , 30.        , 36.        ],\n",
       "       [20.66397832, 38.96151948, 30.5450487 , 51.33225107, 47.0637865 ,\n",
       "        16.        , 44.        , 19.        ]])"
      ]
     },
     "execution_count": 8,
     "metadata": {},
     "output_type": "execute_result"
    }
   ],
   "source": [
    "mcfdtw.fit_transform([comp_1, comp_2, comp_3])"
   ]
  },
  {
   "cell_type": "code",
   "execution_count": null,
   "id": "36365398-9a6b-43eb-8c8a-dc0129652398",
   "metadata": {},
   "outputs": [],
   "source": []
  }
 ],
 "metadata": {
  "kernelspec": {
   "display_name": "Master's Thesis",
   "language": "python",
   "name": "masters-thesis"
  },
  "language_info": {
   "codemirror_mode": {
    "name": "ipython",
    "version": 3
   },
   "file_extension": ".py",
   "mimetype": "text/x-python",
   "name": "python",
   "nbconvert_exporter": "python",
   "pygments_lexer": "ipython3",
   "version": "3.8.9"
  }
 },
 "nbformat": 4,
 "nbformat_minor": 5
}
