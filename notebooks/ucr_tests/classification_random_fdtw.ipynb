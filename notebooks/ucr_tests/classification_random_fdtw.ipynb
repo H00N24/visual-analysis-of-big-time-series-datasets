{
 "cells": [
  {
   "cell_type": "code",
   "execution_count": null,
   "metadata": {},
   "outputs": [],
   "source": [
    "%load_ext autoreload\n",
    "%autoreload 2"
   ]
  },
  {
   "cell_type": "code",
   "execution_count": null,
   "metadata": {},
   "outputs": [],
   "source": [
    "from datetime import datetime\n",
    "from pathlib import Path\n",
    "\n",
    "import numpy as np\n",
    "import pandas as pd\n",
    "from tqdm.notebook import tqdm"
   ]
  },
  {
   "cell_type": "code",
   "execution_count": null,
   "metadata": {},
   "outputs": [],
   "source": [
    "import warnings\n",
    "\n",
    "warnings.filterwarnings(\"ignore\")"
   ]
  },
  {
   "cell_type": "code",
   "execution_count": null,
   "metadata": {},
   "outputs": [],
   "source": [
    "from sklearn.ensemble import ExtraTreesClassifier\n",
    "from sklearn.metrics import accuracy_score\n",
    "from sklearn.model_selection import KFold\n",
    "from sklearn.svm import LinearSVC"
   ]
  },
  {
   "cell_type": "code",
   "execution_count": null,
   "metadata": {},
   "outputs": [],
   "source": [
    "from sklearn.feature_selection import RFECV, SelectFromModel"
   ]
  },
  {
   "cell_type": "code",
   "execution_count": null,
   "metadata": {},
   "outputs": [],
   "source": [
    "DATA_PATH = Path(\"../UCRArchive_2018/\")\n",
    "RESULTS_PATH = Path(\"../results/\")"
   ]
  },
  {
   "cell_type": "code",
   "execution_count": null,
   "metadata": {},
   "outputs": [],
   "source": []
  },
  {
   "cell_type": "code",
   "execution_count": null,
   "metadata": {},
   "outputs": [],
   "source": [
    "def load_y(path):\n",
    "    frame = pd.read_csv(path, header=None, index_col=None)\n",
    "    y = frame.values[:, 0]\n",
    "\n",
    "    return y"
   ]
  },
  {
   "cell_type": "code",
   "execution_count": null,
   "metadata": {},
   "outputs": [],
   "source": []
  },
  {
   "cell_type": "code",
   "execution_count": null,
   "metadata": {
    "lines_to_next_cell": 0
   },
   "outputs": [],
   "source": [
    "from sklearn.feature_selection import SelectorMixin\n",
    "from sklearn.utils import check_random_state\n",
    "\n",
    "\n",
    "class RandomSelector(SelectorMixin):\n",
    "    def __init__(self, n_features=0.5, random_state=None):\n",
    "        self.n_features = n_features\n",
    "        self.random_state = random_state\n",
    "\n",
    "    def fit(self, X, y=None):\n",
    "        _, features = X.shape\n",
    "\n",
    "        rnd = check_random_state(self.random_state)\n",
    "\n",
    "        self._index = rnd.choice(\n",
    "            features,\n",
    "            np.ceil(features * self.n_features).astype(int),\n",
    "            replace=False,\n",
    "        )\n",
    "\n",
    "        self._mask = np.isin(np.arange(features), self._index)\n",
    "\n",
    "        return self\n",
    "\n",
    "    def _get_support_mask(self):\n",
    "        return self._mask\n",
    "\n",
    "    def _get_tags(self):\n",
    "        return {}"
   ]
  },
  {
   "cell_type": "code",
   "execution_count": null,
   "metadata": {
    "lines_to_next_cell": 2
   },
   "outputs": [],
   "source": []
  },
  {
   "cell_type": "code",
   "execution_count": null,
   "metadata": {},
   "outputs": [],
   "source": [
    "selectors = [\n",
    "    (\"Random_10\", RandomSelector(n_features=0.1, random_state=42)),\n",
    "    (\"Random_50\", RandomSelector(n_features=0.5, random_state=42)),\n",
    "    (\"Random_30\", RandomSelector(n_features=0.3, random_state=42)),\n",
    "    (\"LassoSVC\", SelectFromModel(LinearSVC(penalty=\"l1\", dual=False, random_state=42))),\n",
    "    (\"Tree\", SelectFromModel(ExtraTreesClassifier(random_state=42))),\n",
    "]"
   ]
  },
  {
   "cell_type": "code",
   "execution_count": null,
   "metadata": {},
   "outputs": [],
   "source": [
    "n_splits = 5\n",
    "\n",
    "kfold = KFold(n_splits=n_splits, random_state=42, shuffle=True)\n",
    "\n",
    "results = []\n",
    "\n",
    "with open(RESULTS_PATH / f\"classification_select_features_fdtw.csv\", \"w\") as res_file:\n",
    "    for dataset in tqdm(files_frame[:50].sort_values(\"samples\").itertuples(), total=50):\n",
    "\n",
    "        y = load_y(dataset.path)\n",
    "\n",
    "        def_path = dataset.path.replace(\".csv\", \"\")\n",
    "\n",
    "        for name, selector in selectors:\n",
    "            for metric in (\"dtw\", \"fdtw\", \"itakura\", \"sakoe_chiba\"):\n",
    "                for a in (0.6, 0.8):\n",
    "                    record = {\n",
    "                        \"dataset\": def_path.split(\"/\")[-1],\n",
    "                        \"metric\": f\"dd_{metric}_{a:g}\",\n",
    "                        \"method\": name,\n",
    "                        \"accuracy\": 0,\n",
    "                        \"n_features\": 0,\n",
    "                    }\n",
    "\n",
    "                    try:\n",
    "                        X = np.loadtxt(f\"{def_path}_{metric}.gz\", delimiter=\",\")\n",
    "                        X_der = np.loadtxt(f\"{def_path}_der_{metric}.gz\", delimiter=\",\")\n",
    "                    except OSError:\n",
    "                        continue\n",
    "\n",
    "                    for train_index, test_index in kfold.split(X):\n",
    "                        X_c = (1 - a) * X + a * X_der\n",
    "\n",
    "                        y_train = y[train_index]\n",
    "                        X_train = selector.fit_transform(\n",
    "                            X_c[train_index][:, train_index], y_train\n",
    "                        )\n",
    "\n",
    "                        record[\"n_features\"] += (\n",
    "                            X_train.shape[1] / train_index.shape[0] / n_splits\n",
    "                        )\n",
    "\n",
    "                        X_test = selector.transform(X_c[test_index][:, train_index])\n",
    "                        y_test = y[test_index]\n",
    "\n",
    "                        svc = LinearSVC(random_state=42)\n",
    "\n",
    "                        svc.fit(X_train, y_train)\n",
    "                        y_pred = svc.predict(X_test)\n",
    "\n",
    "                        record[\"accuracy\"] += (\n",
    "                            accuracy_score(y_true=y_test, y_pred=y_pred) / n_splits\n",
    "                        )\n",
    "\n",
    "                    results.append(record)\n",
    "\n",
    "                    res_file.write(\n",
    "                        \"{dataset},{metric},{method},{accuracy:.5g},{n_features:.3g}\\n\".format(\n",
    "                            **record\n",
    "                        )\n",
    "                    )\n",
    "\n",
    "                res_file.flush()"
   ]
  },
  {
   "cell_type": "code",
   "execution_count": null,
   "metadata": {},
   "outputs": [],
   "source": []
  },
  {
   "cell_type": "code",
   "execution_count": null,
   "metadata": {},
   "outputs": [],
   "source": []
  }
 ],
 "metadata": {
  "jupytext": {
   "formats": "ipynb,py"
  },
  "kernelspec": {
   "display_name": "Master's Thesis",
   "language": "python",
   "name": "masters-thesis"
  },
  "language_info": {
   "codemirror_mode": {
    "name": "ipython",
    "version": 3
   },
   "file_extension": ".py",
   "mimetype": "text/x-python",
   "name": "python",
   "nbconvert_exporter": "python",
   "pygments_lexer": "ipython3",
   "version": "3.8.9"
  }
 },
 "nbformat": 4,
 "nbformat_minor": 4
}
