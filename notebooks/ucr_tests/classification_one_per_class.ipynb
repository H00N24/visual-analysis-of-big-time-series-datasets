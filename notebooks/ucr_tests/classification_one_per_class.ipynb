{
 "cells": [
  {
   "cell_type": "markdown",
   "metadata": {},
   "source": [
    "# Classification - One Prototype Per Class\n",
    "\n",
    "In this notebook we are computing the accuracy of classificaiton pipeline where we are using the Prototyped Feature DTW transformation with one prototype from each class in UCR datasets."
   ]
  },
  {
   "cell_type": "code",
   "execution_count": null,
   "metadata": {},
   "outputs": [],
   "source": [
    "import csv\n",
    "import itertools\n",
    "import os\n",
    "from dataclasses import dataclass\n",
    "from datetime import datetime\n",
    "\n",
    "import numpy as np\n",
    "import pandas as pd\n",
    "from func_timeout import FunctionTimedOut, func_timeout\n",
    "from sklearn.metrics import accuracy_score\n",
    "from sklearn.svm import LinearSVC\n",
    "from tqdm.notebook import tqdm"
   ]
  },
  {
   "cell_type": "code",
   "execution_count": null,
   "metadata": {},
   "outputs": [],
   "source": [
    "import warnings\n",
    "\n",
    "warnings.filterwarnings(\"ignore\")"
   ]
  },
  {
   "cell_type": "code",
   "execution_count": null,
   "metadata": {},
   "outputs": [],
   "source": [
    "files = !(find ../UCRArchive_2018/ -maxdepth 2 -type f -name \"*TRAIN.tsv\" -exec ls -al {} \\; | sort -k 5 -n | sed 's/ \\+/\\t/g' | cut -f 9)"
   ]
  },
  {
   "cell_type": "code",
   "execution_count": null,
   "metadata": {},
   "outputs": [],
   "source": [
    "@dataclass\n",
    "class FileNames:\n",
    "\n",
    "    name: str\n",
    "\n",
    "    train_file: str\n",
    "    test_file: str\n",
    "\n",
    "    train_dtw: str\n",
    "    train_fastdtw: str\n",
    "\n",
    "    test_dtw: str\n",
    "    test_fastdtw: str"
   ]
  },
  {
   "cell_type": "code",
   "execution_count": null,
   "metadata": {},
   "outputs": [],
   "source": [
    "sort_files = []\n",
    "\n",
    "for file_name in tqdm(files):\n",
    "    name = file_name.split(\"/\")[-1].replace(\"_TRAIN.tsv\", \"\")\n",
    "    test_file = file_name.replace(\"TRAIN.tsv\", \"TEST.tsv\")\n",
    "\n",
    "    train_dtw = file_name.replace(\".tsv\", \"_train_dtw.csv\")\n",
    "    train_fastdtw = file_name.replace(\".tsv\", \"_train_fastdtw.csv\")\n",
    "\n",
    "    test_dtw = test_file.replace(\".tsv\", \"_train_dtw.csv\")\n",
    "    test_fastdtw = test_file.replace(\".tsv\", \"_train_fastdtw.csv\")\n",
    "\n",
    "    if not all(\n",
    "        [\n",
    "            os.path.exists(x)\n",
    "            for x in (\n",
    "                train_dtw,\n",
    "                train_fastdtw,\n",
    "                test_dtw,\n",
    "                test_fastdtw,\n",
    "            )\n",
    "        ]\n",
    "    ):\n",
    "        continue\n",
    "\n",
    "    fl = FileNames(\n",
    "        name=name,\n",
    "        train_file=file_name,\n",
    "        test_file=test_file,\n",
    "        train_dtw=train_dtw,\n",
    "        train_fastdtw=train_fastdtw,\n",
    "        test_dtw=test_dtw,\n",
    "        test_fastdtw=test_fastdtw,\n",
    "    )\n",
    "\n",
    "    frame = pd.read_csv(file_name, delimiter=\"\\t\", header=None)\n",
    "    frame_test = pd.read_csv(test_file, delimiter=\"\\t\", header=None)\n",
    "    sort_files.append([frame.shape[0] + frame_test.shape[0], frame.shape[0], fl])"
   ]
  },
  {
   "cell_type": "code",
   "execution_count": null,
   "metadata": {
    "scrolled": true
   },
   "outputs": [],
   "source": [
    "sort_files = sorted(sort_files, key=lambda x: x[0] * x[1])"
   ]
  },
  {
   "cell_type": "code",
   "execution_count": null,
   "metadata": {},
   "outputs": [],
   "source": [
    "sort_files"
   ]
  },
  {
   "cell_type": "code",
   "execution_count": null,
   "metadata": {},
   "outputs": [],
   "source": [
    "np.random.seed(42)\n",
    "\n",
    "with open(\n",
    "    f\"../logs/classification-class-{datetime.now().isoformat()}.csv\", \"w\"\n",
    ") as out_file:\n",
    "    writer = csv.writer(out_file, delimiter=\",\")\n",
    "    writer.writerow(\n",
    "        [\n",
    "            \"dataset\",\n",
    "            \"1NN_dtw\",\n",
    "            \"1NN_fastdtw\",\n",
    "            \"one_from_class\",\n",
    "        ]\n",
    "    )\n",
    "    for n_samples, n_len, file_name in tqdm(sort_files):\n",
    "\n",
    "        name = file_name.name\n",
    "\n",
    "        row = [name, n_samples]\n",
    "\n",
    "        train_frame = pd.read_csv(file_name.train_file, delimiter=\"\\t\", header=None)\n",
    "        test_frame = pd.read_csv(file_name.test_file, delimiter=\"\\t\", header=None)\n",
    "\n",
    "        y_train = train_frame[0].values\n",
    "        y_test = test_frame[0].values\n",
    "\n",
    "        _, class_proto_index = np.unique(y_train, return_index=True)\n",
    "\n",
    "        train_dtw = pd.read_csv(file_name.train_dtw, delimiter=\",\", header=None)\n",
    "        train_fastdtw = pd.read_csv(file_name.train_fastdtw, delimiter=\",\", header=None)\n",
    "\n",
    "        test_dtw = pd.read_csv(file_name.test_dtw, delimiter=\",\", header=None)\n",
    "        test_fastdtw = pd.read_csv(file_name.test_fastdtw, delimiter=\",\", header=None)\n",
    "\n",
    "        row.append(\n",
    "            accuracy_score(\n",
    "                y_pred=y_train[np.argmin(test_dtw.values, axis=1)], y_true=y_test\n",
    "            )\n",
    "        )\n",
    "\n",
    "        row.append(\n",
    "            accuracy_score(\n",
    "                y_pred=y_train[np.argmin(test_fastdtw.values, axis=1)], y_true=y_test\n",
    "            )\n",
    "        )\n",
    "\n",
    "        acc_r = []\n",
    "        train_shape = train_fastdtw.shape\n",
    "        try:\n",
    "\n",
    "            X_train = train_fastdtw.values[:, class_proto_index]\n",
    "            X_test = test_fastdtw.values[:, class_proto_index]\n",
    "\n",
    "            svc = LinearSVC(random_state=42, max_iter=1000)\n",
    "            func_timeout(600, svc.fit, args=(X_train, y_train))\n",
    "            predicted = func_timeout(600, svc.predict, args=(X_test,))\n",
    "\n",
    "            row.append(accuracy_score(y_true=y_test, y_pred=predicted))\n",
    "        except FunctionTimedOut:\n",
    "            continue\n",
    "\n",
    "        print(f\"{row[0]} {row[2]:.3f} {row[3]:.3f} {row[4]:.3f}\")\n",
    "        writer.writerow(row)\n",
    "        out_file.flush()"
   ]
  },
  {
   "cell_type": "code",
   "execution_count": null,
   "metadata": {},
   "outputs": [],
   "source": []
  }
 ],
 "metadata": {
  "jupytext": {
   "formats": "ipynb,py:percent"
  },
  "kernelspec": {
   "display_name": "Master's Thesis",
   "language": "python",
   "name": "masters-thesis"
  },
  "language_info": {
   "codemirror_mode": {
    "name": "ipython",
    "version": 3
   },
   "file_extension": ".py",
   "mimetype": "text/x-python",
   "name": "python",
   "nbconvert_exporter": "python",
   "pygments_lexer": "ipython3",
   "version": "3.8.9"
  }
 },
 "nbformat": 4,
 "nbformat_minor": 4
}
