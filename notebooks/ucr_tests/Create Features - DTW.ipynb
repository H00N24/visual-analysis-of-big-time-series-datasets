{
 "cells": [
  {
   "cell_type": "markdown",
   "metadata": {},
   "source": [
    "# Computing the DTW Distance On UCR Datasets"
   ]
  },
  {
   "cell_type": "code",
   "execution_count": null,
   "metadata": {},
   "outputs": [],
   "source": [
    "import csv\n",
    "import time\n",
    "\n",
    "import numpy as np\n",
    "import pandas as pd\n",
    "from dtw import dtw\n",
    "from tqdm.notebook import tqdm"
   ]
  },
  {
   "cell_type": "code",
   "execution_count": null,
   "metadata": {},
   "outputs": [],
   "source": [
    "files = !(find ../UCRArchive_2018/ -type f -name \"*TRAIN.tsv\" -exec ls -al {} \\; | sort -k 5 -n | sed 's/ \\+/\\t/g' | cut -f 9)\n",
    "files"
   ]
  },
  {
   "cell_type": "code",
   "execution_count": null,
   "metadata": {},
   "outputs": [],
   "source": [
    "len(files)"
   ]
  },
  {
   "cell_type": "code",
   "execution_count": null,
   "metadata": {
    "scrolled": true
   },
   "outputs": [],
   "source": [
    "ress = []\n",
    "\n",
    "with open(\"../logs/create_features_dtw.csv\", \"w\") as log_file:\n",
    "    writer = csv.writer(log_file, delimiter=\",\", quotechar='\"')\n",
    "    writer.writerow([\"name\", \"train_distance_time\", \"test_distance_time\"])\n",
    "    for file_name in tqdm(files, desc=\"Files processing\"):\n",
    "        np.random.seed(42)\n",
    "\n",
    "        name = file_name.split(\"/\")[-1].replace(\"_TRAIN.tsv\", \"\")\n",
    "\n",
    "        train_frame = pd.read_csv(file_name, delimiter=\"\\t\", header=None).interpolate(\n",
    "            limit_direction=\"backward\", axis=1\n",
    "        )\n",
    "        test_frame = pd.read_csv(\n",
    "            file_name.replace(\"TRAIN.tsv\", \"TEST.tsv\"), delimiter=\"\\t\", header=None\n",
    "        ).interpolate(limit_direction=\"backward\", axis=1)\n",
    "\n",
    "        start_time = time.monotonic()\n",
    "        train_dtw = pd.DataFrame(\n",
    "            [\n",
    "                [\n",
    "                    dtw(w[~np.isnan(w)], x[~np.isnan(x)]).distance\n",
    "                    for w in train_frame.values[:, 1:]\n",
    "                ]\n",
    "                for x in tqdm(\n",
    "                    train_frame.values[:, 1:], desc=f\"{name} Train frame\", leave=False\n",
    "                )\n",
    "            ]\n",
    "        )\n",
    "\n",
    "        train_timer = time.monotonic() - start_time\n",
    "\n",
    "        train_dtw.to_csv(\n",
    "            file_name.replace(\"TRAIN.tsv\", \"TRAIN_train_dtw.csv\"),\n",
    "            header=None,\n",
    "            index=None,\n",
    "        )\n",
    "\n",
    "        start_time = time.monotonic()\n",
    "\n",
    "        test_dtw = pd.DataFrame(\n",
    "            [\n",
    "                [\n",
    "                    dtw(w[~np.isnan(w)], x[~np.isnan(x)]).distance\n",
    "                    for w in train_frame.values[:, 1:]\n",
    "                ]\n",
    "                for x in tqdm(\n",
    "                    test_frame.values[:, 1:], desc=f\"{name} Test frame\", leave=False\n",
    "                )\n",
    "            ]\n",
    "        )\n",
    "\n",
    "        test_timer = time.monotonic() - start_time\n",
    "\n",
    "        test_dtw.to_csv(\n",
    "            file_name.replace(\"TRAIN.tsv\", \"TEST_train_dtw.csv\"),\n",
    "            header=None,\n",
    "            index=None,\n",
    "        )\n",
    "\n",
    "        log = [name, train_timer, test_timer]\n",
    "        writer.writerow(log)\n",
    "        print(*log)"
   ]
  }
 ],
 "metadata": {
  "jupytext": {
   "formats": "ipynb,py:percent"
  },
  "kernelspec": {
   "display_name": "Master's Thesis",
   "language": "python",
   "name": "masters-thesis"
  },
  "language_info": {
   "codemirror_mode": {
    "name": "ipython",
    "version": 3
   },
   "file_extension": ".py",
   "mimetype": "text/x-python",
   "name": "python",
   "nbconvert_exporter": "python",
   "pygments_lexer": "ipython3",
   "version": "3.8.9"
  }
 },
 "nbformat": 4,
 "nbformat_minor": 4
}
