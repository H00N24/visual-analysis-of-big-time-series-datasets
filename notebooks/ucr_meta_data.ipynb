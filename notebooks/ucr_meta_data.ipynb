{
 "cells": [
  {
   "cell_type": "code",
   "execution_count": null,
   "metadata": {},
   "outputs": [],
   "source": [
    "%load_ext lab_black\n",
    "%load_ext autoreload\n",
    "%autoreload 2"
   ]
  },
  {
   "cell_type": "markdown",
   "metadata": {},
   "source": [
    "# UCR metadata"
   ]
  },
  {
   "cell_type": "code",
   "execution_count": null,
   "metadata": {},
   "outputs": [],
   "source": [
    "from pathlib import Path\n",
    "\n",
    "import pandas as pd\n",
    "from tqdm.notebook import tqdm"
   ]
  },
  {
   "cell_type": "code",
   "execution_count": null,
   "metadata": {},
   "outputs": [],
   "source": [
    "DATA_PATH = Path(\"../UCRArchive_2018/\")"
   ]
  },
  {
   "cell_type": "code",
   "execution_count": null,
   "metadata": {},
   "outputs": [],
   "source": [
    "files = []\n",
    "for f in tqdm(DATA_PATH.rglob(\"*_TRAIN.tsv\")):\n",
    "    full_path = str(f)\n",
    "\n",
    "    train_frame = pd.read_csv(f, delimiter=\"\\t\", header=None)\n",
    "    test_frame = pd.read_csv(\n",
    "        full_path.replace(\"TRAIN\", \"TEST\"), delimiter=\"\\t\", header=None\n",
    "    )\n",
    "\n",
    "    res_frame = pd.concat([train_frame, test_frame])\n",
    "\n",
    "    csv_path = full_path.replace(\"_TRAIN.tsv\", \".csv\")\n",
    "    res_frame.to_csv(csv_path, header=None, index=None)\n",
    "\n",
    "    files.append((csv_path, *res_frame.shape))\n",
    "\n",
    "files = sorted(files, key=lambda x: x[1] * x[2])\n",
    "\n",
    "\n",
    "files_frame = pd.DataFrame(files, columns=[\"path\", \"samples\", \"lengths\"])\n",
    "files_frame"
   ]
  },
  {
   "cell_type": "code",
   "execution_count": null,
   "metadata": {},
   "outputs": [],
   "source": [
    "files_frame.to_csv(DATA_PATH / \"ucr_metadata.csv\", index=None)"
   ]
  },
  {
   "cell_type": "code",
   "execution_count": null,
   "metadata": {},
   "outputs": [],
   "source": []
  },
  {
   "cell_type": "code",
   "execution_count": null,
   "metadata": {},
   "outputs": [],
   "source": []
  }
 ],
 "metadata": {
  "kernelspec": {
   "display_name": "Master's Thesis",
   "language": "python",
   "name": "masters-thesis"
  },
  "language_info": {
   "codemirror_mode": {
    "name": "ipython",
    "version": 3
   },
   "file_extension": ".py",
   "mimetype": "text/x-python",
   "name": "python",
   "nbconvert_exporter": "python",
   "pygments_lexer": "ipython3",
   "version": "3.6.10"
  }
 },
 "nbformat": 4,
 "nbformat_minor": 4
}
