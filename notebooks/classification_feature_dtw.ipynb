{
 "cells": [
  {
   "cell_type": "code",
   "execution_count": null,
   "metadata": {},
   "outputs": [],
   "source": [
    "%load_ext lab_black\n",
    "%load_ext autoreload\n",
    "%autoreload 2"
   ]
  },
  {
   "cell_type": "code",
   "execution_count": null,
   "metadata": {},
   "outputs": [],
   "source": [
    "from pathlib import Path\n",
    "from datetime import datetime\n",
    "\n",
    "import numpy as np\n",
    "import pandas as pd\n",
    "\n",
    "from tqdm.notebook import tqdm"
   ]
  },
  {
   "cell_type": "code",
   "execution_count": null,
   "metadata": {},
   "outputs": [],
   "source": [
    "import warnings\n",
    "\n",
    "warnings.filterwarnings(\"ignore\")"
   ]
  },
  {
   "cell_type": "code",
   "execution_count": null,
   "metadata": {},
   "outputs": [],
   "source": [
    "from sklearn.ensemble import GradientBoostingClassifier\n",
    "from sklearn.svm import LinearSVC\n",
    "from sklearn.neighbors import KNeighborsClassifier\n",
    "\n",
    "from sklearn.model_selection import KFold\n",
    "from sklearn.metrics import accuracy_score"
   ]
  },
  {
   "cell_type": "code",
   "execution_count": null,
   "metadata": {},
   "outputs": [],
   "source": [
    "DATA_PATH = Path(\"../UCRArchive_2018/\")\n",
    "RESULTS_PATH = Path(\"../results/\")"
   ]
  },
  {
   "cell_type": "code",
   "execution_count": null,
   "metadata": {},
   "outputs": [],
   "source": [
    "files_frame = pd.read_csv(DATA_PATH / \"ucr_metadata.csv\")\n",
    "files_frame"
   ]
  },
  {
   "cell_type": "code",
   "execution_count": null,
   "metadata": {},
   "outputs": [],
   "source": [
    "def load_y(path):\n",
    "    frame = pd.read_csv(path, header=None, index_col=None)\n",
    "    y = frame.values[:, 0]\n",
    "\n",
    "    return y"
   ]
  },
  {
   "cell_type": "code",
   "execution_count": null,
   "metadata": {},
   "outputs": [],
   "source": []
  },
  {
   "cell_type": "code",
   "execution_count": null,
   "metadata": {},
   "outputs": [],
   "source": [
    "methods = [\n",
    "#    (\"GradientBoostingClassifier\", GradientBoostingClassifier(random_state=42)),\n",
    "    (\"LinearSVC\", LinearSVC(random_state=42)),\n",
    "    (\"KNeighborsClassifier\", KNeighborsClassifier(n_neighbors=1, metric=\"precomputed\")),\n",
    "]\n",
    "\n",
    "n_splits = 5\n",
    "\n",
    "kfold = KFold(n_splits=n_splits, random_state=42, shuffle=True)\n",
    "\n",
    "results = []\n",
    "\n",
    "with open(RESULTS_PATH / f\"classification_feature_dtw.csv\", \"w\") as res_file:\n",
    "    for dataset in tqdm(files_frame[:50].sort_values(\"samples\").itertuples()):\n",
    "\n",
    "        y = load_y(dataset.path)\n",
    "\n",
    "        def_path = dataset.path.replace(\".csv\", \"\")\n",
    "\n",
    "        for name, method in methods:\n",
    "            for metric in (\"dtw\", \"fdtw\", \"itakura\", \"sakoe_chiba\"):\n",
    "                record = {\n",
    "                    \"dataset\": def_path.split(\"/\")[-1],\n",
    "                    \"metric\": metric,\n",
    "                    \"method\": name,\n",
    "                    \"accuracy\": 0,\n",
    "                }\n",
    "\n",
    "                try:\n",
    "                    X = np.loadtxt(f\"{def_path}_{metric}.gz\", delimiter=\",\")\n",
    "                except OSError:\n",
    "                    continue\n",
    "\n",
    "                for train_index, test_index in kfold.split(X):\n",
    "                    X_train = X[train_index][:, train_index]\n",
    "                    y_train = y[train_index]\n",
    "\n",
    "                    X_test = X[test_index][:, train_index]\n",
    "                    y_test = y[test_index]\n",
    "\n",
    "                    method.fit(X_train, y_train)\n",
    "                    y_pred = method.predict(X_test)\n",
    "\n",
    "                    record[\"accuracy\"] += (\n",
    "                        accuracy_score(y_true=y_test, y_pred=y_pred) / n_splits\n",
    "                    )\n",
    "\n",
    "                results.append(record)\n",
    "\n",
    "                res_file.write(\n",
    "                    \"{dataset},{metric},{method},{accuracy:.5g}\\n\".format(**record)\n",
    "                )\n",
    "\n",
    "                res_file.flush()"
   ]
  },
  {
   "cell_type": "code",
   "execution_count": null,
   "metadata": {},
   "outputs": [],
   "source": [
    "pd.DataFrame(results).sample(20)"
   ]
  },
  {
   "cell_type": "code",
   "execution_count": null,
   "metadata": {},
   "outputs": [],
   "source": [
    "methods = [\n",
    "    (\"LinearSVC\", LinearSVC(random_state=42)),\n",
    "    (\"KNeighborsClassifier\", KNeighborsClassifier(n_neighbors=1, metric=\"precomputed\")),\n",
    "]\n",
    "\n",
    "n_splits = 5\n",
    "\n",
    "kfold = KFold(n_splits=n_splits, random_state=42, shuffle=True)\n",
    "\n",
    "results = []\n",
    "\n",
    "with open(RESULTS_PATH / f\"classification_feature_dd_dtw.csv\", \"w\") as res_file:\n",
    "    for dataset in tqdm(files_frame[:50].sort_values(\"samples\").itertuples()):\n",
    "\n",
    "        y = load_y(dataset.path)\n",
    "\n",
    "        def_path = dataset.path.replace(\".csv\", \"\")\n",
    "\n",
    "        for name, method in methods:\n",
    "            for metric in (\"dtw\", \"fdtw\", \"itakura\", \"sakoe_chiba\"):\n",
    "                for a in (0.4, 0.6, 0.8):\n",
    "                    record = {\n",
    "                        \"dataset\": def_path.split(\"/\")[-1],\n",
    "                        \"metric\": f\"dd_{metric}_{a:g}\",\n",
    "                        \"method\": name,\n",
    "                        \"accuracy\": 0,\n",
    "                    }\n",
    "\n",
    "                    try:\n",
    "                        X = np.loadtxt(f\"{def_path}_{metric}.gz\", delimiter=\",\")\n",
    "                        X_der = np.loadtxt(f\"{def_path}_der_{metric}.gz\", delimiter=\",\")\n",
    "                    except OSError:\n",
    "                        continue\n",
    "\n",
    "                    for train_index, test_index in kfold.split(X):\n",
    "                        X_c = (1 - a) * X + a * X_der\n",
    "\n",
    "                        X_train = X_c[train_index][:, train_index]\n",
    "                        y_train = y[train_index]\n",
    "\n",
    "                        X_test = X_c[test_index][:, train_index]\n",
    "                        y_test = y[test_index]\n",
    "\n",
    "                        method.fit(X_train, y_train)\n",
    "                        y_pred = method.predict(X_test)\n",
    "\n",
    "                        record[\"accuracy\"] += (\n",
    "                            accuracy_score(y_true=y_test, y_pred=y_pred) / n_splits\n",
    "                        )\n",
    "\n",
    "                    results.append(record)\n",
    "\n",
    "                    res_file.write(\n",
    "                        \"{dataset},{metric},{method},{accuracy:.5g}\\n\".format(**record)\n",
    "                    )\n",
    "\n",
    "                res_file.flush()\n"
   ]
  },
  {
   "cell_type": "code",
   "execution_count": null,
   "metadata": {},
   "outputs": [],
   "source": [
    "np.sin(1.5), np.cos(1.5)"
   ]
  }
 ],
 "metadata": {
  "kernelspec": {
   "display_name": "Master's Thesis",
   "language": "python",
   "name": "masters-thesis"
  },
  "language_info": {
   "codemirror_mode": {
    "name": "ipython",
    "version": 3
   },
   "file_extension": ".py",
   "mimetype": "text/x-python",
   "name": "python",
   "nbconvert_exporter": "python",
   "pygments_lexer": "ipython3",
   "version": "3.6.10"
  }
 },
 "nbformat": 4,
 "nbformat_minor": 4
}
